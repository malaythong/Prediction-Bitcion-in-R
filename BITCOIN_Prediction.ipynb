{
  "nbformat": 4,
  "nbformat_minor": 0,
  "metadata": {
    "colab": {
      "name": "BITCOIN Prediction",
      "provenance": [],
      "collapsed_sections": []
    },
    "kernelspec": {
      "name": "python3",
      "display_name": "Python 3"
    }
  },
  "cells": [
    {
      "cell_type": "markdown",
      "metadata": {
        "id": "0ZB8LlhoI1yO"
      },
      "source": [
        "# import library "
      ]
    },
    {
      "cell_type": "code",
      "metadata": {
        "id": "jVmROCDcOMCt"
      },
      "source": [
        "import pandas as pd                     #ຈັັດການກັບຂໍ້ມູນ\r\n",
        "from fbprophet import Prophet           #ວິເຄາະຂໍ້ມູນ ແລະ ສ້າງ model ດ້ວຍ Time series\r\n",
        "import io                               #ອັບໂຫຼດໄຟຣ໌ເຂົ້າມາໃສ່ notebook\r\n",
        "import matplotlib.pyplot as plt         #ສ້າງກຣາຟ"
      ],
      "execution_count": null,
      "outputs": []
    },
    {
      "cell_type": "markdown",
      "metadata": {
        "id": "JaX2ZGe2dbwB"
      },
      "source": [
        "# ໂຫຼດໄຟຣ໌ **BTC_USD.csv** ເຂົ້າມາຈາກ File Explorer"
      ]
    },
    {
      "cell_type": "code",
      "metadata": {
        "colab": {
          "resources": {
            "http://localhost:8080/nbextensions/google.colab/files.js": {
              "data": "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",
              "ok": true,
              "headers": [
                [
                  "content-type",
                  "application/javascript"
                ]
              ],
              "status": 200,
              "status_text": ""
            }
          },
          "base_uri": "https://localhost:8080/",
          "height": 73
        },
        "id": "9I6AsgTzOx6B",
        "outputId": "99e60f13-8fa7-421c-c68e-bdc7d9d8359c"
      },
      "source": [
        "from google.colab import files \r\n",
        "  \r\n",
        "  \r\n",
        "uploaded = files.upload()"
      ],
      "execution_count": null,
      "outputs": [
        {
          "output_type": "display_data",
          "data": {
            "text/html": [
              "\n",
              "     <input type=\"file\" id=\"files-bc82355e-99ee-44c0-aaad-7af584fc242f\" name=\"files[]\" multiple disabled\n",
              "        style=\"border:none\" />\n",
              "     <output id=\"result-bc82355e-99ee-44c0-aaad-7af584fc242f\">\n",
              "      Upload widget is only available when the cell has been executed in the\n",
              "      current browser session. Please rerun this cell to enable.\n",
              "      </output>\n",
              "      <script src=\"/nbextensions/google.colab/files.js\"></script> "
            ],
            "text/plain": [
              "<IPython.core.display.HTML object>"
            ]
          },
          "metadata": {
            "tags": []
          }
        },
        {
          "output_type": "stream",
          "text": [
            "Saving BTC_USD.csv to BTC_USD (1).csv\n"
          ],
          "name": "stdout"
        }
      ]
    },
    {
      "cell_type": "markdown",
      "metadata": {
        "id": "N96yyu-kq5Ju"
      },
      "source": [
        "# ອ່ານໄຟຣ໌ **BTC_USD.csv** ເຂົ້າໃສ່ **df**"
      ]
    },
    {
      "cell_type": "code",
      "metadata": {
        "id": "rdjP5RuYSZdq",
        "colab": {
          "base_uri": "https://localhost:8080/",
          "height": 402
        },
        "outputId": "ce1df91c-9b2a-449d-81e5-7b3863849744"
      },
      "source": [
        "df = pd.read_csv(io.BytesIO(uploaded['BTC_USD.csv'])) \r\n",
        "df"
      ],
      "execution_count": null,
      "outputs": [
        {
          "output_type": "execute_result",
          "data": {
            "text/html": [
              "<div>\n",
              "<style scoped>\n",
              "    .dataframe tbody tr th:only-of-type {\n",
              "        vertical-align: middle;\n",
              "    }\n",
              "\n",
              "    .dataframe tbody tr th {\n",
              "        vertical-align: top;\n",
              "    }\n",
              "\n",
              "    .dataframe thead th {\n",
              "        text-align: right;\n",
              "    }\n",
              "</style>\n",
              "<table border=\"1\" class=\"dataframe\">\n",
              "  <thead>\n",
              "    <tr style=\"text-align: right;\">\n",
              "      <th></th>\n",
              "      <th>Currency</th>\n",
              "      <th>Date</th>\n",
              "      <th>Closing Price (USD)</th>\n",
              "      <th>24h Open (USD)</th>\n",
              "      <th>24h High (USD)</th>\n",
              "      <th>24h Low (USD)</th>\n",
              "    </tr>\n",
              "  </thead>\n",
              "  <tbody>\n",
              "    <tr>\n",
              "      <th>0</th>\n",
              "      <td>BTC</td>\n",
              "      <td>2013-10-01</td>\n",
              "      <td>123.654990</td>\n",
              "      <td>124.304660</td>\n",
              "      <td>124.751660</td>\n",
              "      <td>122.563490</td>\n",
              "    </tr>\n",
              "    <tr>\n",
              "      <th>1</th>\n",
              "      <td>BTC</td>\n",
              "      <td>2013-10-02</td>\n",
              "      <td>125.455000</td>\n",
              "      <td>123.654990</td>\n",
              "      <td>125.758500</td>\n",
              "      <td>123.633830</td>\n",
              "    </tr>\n",
              "    <tr>\n",
              "      <th>2</th>\n",
              "      <td>BTC</td>\n",
              "      <td>2013-10-03</td>\n",
              "      <td>108.584830</td>\n",
              "      <td>125.455000</td>\n",
              "      <td>125.665660</td>\n",
              "      <td>83.328330</td>\n",
              "    </tr>\n",
              "    <tr>\n",
              "      <th>3</th>\n",
              "      <td>BTC</td>\n",
              "      <td>2013-10-04</td>\n",
              "      <td>118.674660</td>\n",
              "      <td>108.584830</td>\n",
              "      <td>118.675000</td>\n",
              "      <td>107.058160</td>\n",
              "    </tr>\n",
              "    <tr>\n",
              "      <th>4</th>\n",
              "      <td>BTC</td>\n",
              "      <td>2013-10-05</td>\n",
              "      <td>121.338660</td>\n",
              "      <td>118.674660</td>\n",
              "      <td>121.936330</td>\n",
              "      <td>118.005660</td>\n",
              "    </tr>\n",
              "    <tr>\n",
              "      <th>...</th>\n",
              "      <td>...</td>\n",
              "      <td>...</td>\n",
              "      <td>...</td>\n",
              "      <td>...</td>\n",
              "      <td>...</td>\n",
              "      <td>...</td>\n",
              "    </tr>\n",
              "    <tr>\n",
              "      <th>2656</th>\n",
              "      <td>BTC</td>\n",
              "      <td>2021-01-18</td>\n",
              "      <td>36375.811379</td>\n",
              "      <td>36016.753089</td>\n",
              "      <td>36840.132854</td>\n",
              "      <td>33870.138376</td>\n",
              "    </tr>\n",
              "    <tr>\n",
              "      <th>2657</th>\n",
              "      <td>BTC</td>\n",
              "      <td>2021-01-19</td>\n",
              "      <td>36346.609502</td>\n",
              "      <td>35847.833425</td>\n",
              "      <td>37440.404012</td>\n",
              "      <td>34816.289250</td>\n",
              "    </tr>\n",
              "    <tr>\n",
              "      <th>2658</th>\n",
              "      <td>BTC</td>\n",
              "      <td>2021-01-20</td>\n",
              "      <td>36577.519646</td>\n",
              "      <td>36639.985912</td>\n",
              "      <td>37876.158929</td>\n",
              "      <td>36136.535574</td>\n",
              "    </tr>\n",
              "    <tr>\n",
              "      <th>2659</th>\n",
              "      <td>BTC</td>\n",
              "      <td>2021-01-21</td>\n",
              "      <td>35004.532627</td>\n",
              "      <td>35909.432247</td>\n",
              "      <td>36409.708596</td>\n",
              "      <td>33430.821992</td>\n",
              "    </tr>\n",
              "    <tr>\n",
              "      <th>2660</th>\n",
              "      <td>BTC</td>\n",
              "      <td>2021-01-22</td>\n",
              "      <td>30606.182676</td>\n",
              "      <td>35491.423921</td>\n",
              "      <td>35612.737198</td>\n",
              "      <td>30077.278955</td>\n",
              "    </tr>\n",
              "  </tbody>\n",
              "</table>\n",
              "<p>2661 rows × 6 columns</p>\n",
              "</div>"
            ],
            "text/plain": [
              "     Currency        Date  ...  24h High (USD)  24h Low (USD)\n",
              "0         BTC  2013-10-01  ...      124.751660     122.563490\n",
              "1         BTC  2013-10-02  ...      125.758500     123.633830\n",
              "2         BTC  2013-10-03  ...      125.665660      83.328330\n",
              "3         BTC  2013-10-04  ...      118.675000     107.058160\n",
              "4         BTC  2013-10-05  ...      121.936330     118.005660\n",
              "...       ...         ...  ...             ...            ...\n",
              "2656      BTC  2021-01-18  ...    36840.132854   33870.138376\n",
              "2657      BTC  2021-01-19  ...    37440.404012   34816.289250\n",
              "2658      BTC  2021-01-20  ...    37876.158929   36136.535574\n",
              "2659      BTC  2021-01-21  ...    36409.708596   33430.821992\n",
              "2660      BTC  2021-01-22  ...    35612.737198   30077.278955\n",
              "\n",
              "[2661 rows x 6 columns]"
            ]
          },
          "metadata": {
            "tags": []
          },
          "execution_count": 7
        }
      ]
    },
    {
      "cell_type": "markdown",
      "metadata": {
        "id": "xO3mzDk4rLXr"
      },
      "source": [
        "# ປ່ຽນຊື່ Column: \r\n",
        "**Date -> \"ds\"** |\r\n",
        "**Closing Price (USD) -> \"y\"**\r\n",
        "ເພືື່ອທີ່ຈະເອົາໄປວິເຄາະດ້ວຍ **Prophet**"
      ]
    },
    {
      "cell_type": "code",
      "metadata": {
        "colab": {
          "base_uri": "https://localhost:8080/",
          "height": 402
        },
        "id": "0MHOTYDYs7pW",
        "outputId": "18d8ff6c-2b75-489a-cd68-6a5328f0a55f"
      },
      "source": [
        "# Format data for prophet model using ds and y\r\n",
        "df=df.rename(columns={\"Date\": \"ds\", \"Closing Price (USD)\": \"y\"})\r\n",
        "df"
      ],
      "execution_count": null,
      "outputs": [
        {
          "output_type": "execute_result",
          "data": {
            "text/html": [
              "<div>\n",
              "<style scoped>\n",
              "    .dataframe tbody tr th:only-of-type {\n",
              "        vertical-align: middle;\n",
              "    }\n",
              "\n",
              "    .dataframe tbody tr th {\n",
              "        vertical-align: top;\n",
              "    }\n",
              "\n",
              "    .dataframe thead th {\n",
              "        text-align: right;\n",
              "    }\n",
              "</style>\n",
              "<table border=\"1\" class=\"dataframe\">\n",
              "  <thead>\n",
              "    <tr style=\"text-align: right;\">\n",
              "      <th></th>\n",
              "      <th>Currency</th>\n",
              "      <th>ds</th>\n",
              "      <th>y</th>\n",
              "      <th>24h Open (USD)</th>\n",
              "      <th>24h High (USD)</th>\n",
              "      <th>24h Low (USD)</th>\n",
              "    </tr>\n",
              "  </thead>\n",
              "  <tbody>\n",
              "    <tr>\n",
              "      <th>0</th>\n",
              "      <td>BTC</td>\n",
              "      <td>2013-10-01</td>\n",
              "      <td>123.654990</td>\n",
              "      <td>124.304660</td>\n",
              "      <td>124.751660</td>\n",
              "      <td>122.563490</td>\n",
              "    </tr>\n",
              "    <tr>\n",
              "      <th>1</th>\n",
              "      <td>BTC</td>\n",
              "      <td>2013-10-02</td>\n",
              "      <td>125.455000</td>\n",
              "      <td>123.654990</td>\n",
              "      <td>125.758500</td>\n",
              "      <td>123.633830</td>\n",
              "    </tr>\n",
              "    <tr>\n",
              "      <th>2</th>\n",
              "      <td>BTC</td>\n",
              "      <td>2013-10-03</td>\n",
              "      <td>108.584830</td>\n",
              "      <td>125.455000</td>\n",
              "      <td>125.665660</td>\n",
              "      <td>83.328330</td>\n",
              "    </tr>\n",
              "    <tr>\n",
              "      <th>3</th>\n",
              "      <td>BTC</td>\n",
              "      <td>2013-10-04</td>\n",
              "      <td>118.674660</td>\n",
              "      <td>108.584830</td>\n",
              "      <td>118.675000</td>\n",
              "      <td>107.058160</td>\n",
              "    </tr>\n",
              "    <tr>\n",
              "      <th>4</th>\n",
              "      <td>BTC</td>\n",
              "      <td>2013-10-05</td>\n",
              "      <td>121.338660</td>\n",
              "      <td>118.674660</td>\n",
              "      <td>121.936330</td>\n",
              "      <td>118.005660</td>\n",
              "    </tr>\n",
              "    <tr>\n",
              "      <th>...</th>\n",
              "      <td>...</td>\n",
              "      <td>...</td>\n",
              "      <td>...</td>\n",
              "      <td>...</td>\n",
              "      <td>...</td>\n",
              "      <td>...</td>\n",
              "    </tr>\n",
              "    <tr>\n",
              "      <th>2656</th>\n",
              "      <td>BTC</td>\n",
              "      <td>2021-01-18</td>\n",
              "      <td>36375.811379</td>\n",
              "      <td>36016.753089</td>\n",
              "      <td>36840.132854</td>\n",
              "      <td>33870.138376</td>\n",
              "    </tr>\n",
              "    <tr>\n",
              "      <th>2657</th>\n",
              "      <td>BTC</td>\n",
              "      <td>2021-01-19</td>\n",
              "      <td>36346.609502</td>\n",
              "      <td>35847.833425</td>\n",
              "      <td>37440.404012</td>\n",
              "      <td>34816.289250</td>\n",
              "    </tr>\n",
              "    <tr>\n",
              "      <th>2658</th>\n",
              "      <td>BTC</td>\n",
              "      <td>2021-01-20</td>\n",
              "      <td>36577.519646</td>\n",
              "      <td>36639.985912</td>\n",
              "      <td>37876.158929</td>\n",
              "      <td>36136.535574</td>\n",
              "    </tr>\n",
              "    <tr>\n",
              "      <th>2659</th>\n",
              "      <td>BTC</td>\n",
              "      <td>2021-01-21</td>\n",
              "      <td>35004.532627</td>\n",
              "      <td>35909.432247</td>\n",
              "      <td>36409.708596</td>\n",
              "      <td>33430.821992</td>\n",
              "    </tr>\n",
              "    <tr>\n",
              "      <th>2660</th>\n",
              "      <td>BTC</td>\n",
              "      <td>2021-01-22</td>\n",
              "      <td>30606.182676</td>\n",
              "      <td>35491.423921</td>\n",
              "      <td>35612.737198</td>\n",
              "      <td>30077.278955</td>\n",
              "    </tr>\n",
              "  </tbody>\n",
              "</table>\n",
              "<p>2661 rows × 6 columns</p>\n",
              "</div>"
            ],
            "text/plain": [
              "     Currency          ds  ...  24h High (USD)  24h Low (USD)\n",
              "0         BTC  2013-10-01  ...      124.751660     122.563490\n",
              "1         BTC  2013-10-02  ...      125.758500     123.633830\n",
              "2         BTC  2013-10-03  ...      125.665660      83.328330\n",
              "3         BTC  2013-10-04  ...      118.675000     107.058160\n",
              "4         BTC  2013-10-05  ...      121.936330     118.005660\n",
              "...       ...         ...  ...             ...            ...\n",
              "2656      BTC  2021-01-18  ...    36840.132854   33870.138376\n",
              "2657      BTC  2021-01-19  ...    37440.404012   34816.289250\n",
              "2658      BTC  2021-01-20  ...    37876.158929   36136.535574\n",
              "2659      BTC  2021-01-21  ...    36409.708596   33430.821992\n",
              "2660      BTC  2021-01-22  ...    35612.737198   30077.278955\n",
              "\n",
              "[2661 rows x 6 columns]"
            ]
          },
          "metadata": {
            "tags": []
          },
          "execution_count": 4
        }
      ]
    },
    {
      "cell_type": "markdown",
      "metadata": {
        "id": "lbTblkeSsr7K"
      },
      "source": [
        "# ສ້າງ Data frame ທີ່ຊື່ວ່າ BTC ເຊິ່ງເລືອກເອົາ **'ds','y'** ຈາກ df"
      ]
    },
    {
      "cell_type": "code",
      "metadata": {
        "colab": {
          "base_uri": "https://localhost:8080/",
          "height": 402
        },
        "id": "yMuvcRQttMfD",
        "outputId": "b94dff05-c7fb-4cf6-a4ca-4a66505795e7"
      },
      "source": [
        "BTC = df[['ds','y']]\r\n",
        "BTC"
      ],
      "execution_count": null,
      "outputs": [
        {
          "output_type": "execute_result",
          "data": {
            "text/html": [
              "<div>\n",
              "<style scoped>\n",
              "    .dataframe tbody tr th:only-of-type {\n",
              "        vertical-align: middle;\n",
              "    }\n",
              "\n",
              "    .dataframe tbody tr th {\n",
              "        vertical-align: top;\n",
              "    }\n",
              "\n",
              "    .dataframe thead th {\n",
              "        text-align: right;\n",
              "    }\n",
              "</style>\n",
              "<table border=\"1\" class=\"dataframe\">\n",
              "  <thead>\n",
              "    <tr style=\"text-align: right;\">\n",
              "      <th></th>\n",
              "      <th>ds</th>\n",
              "      <th>y</th>\n",
              "    </tr>\n",
              "  </thead>\n",
              "  <tbody>\n",
              "    <tr>\n",
              "      <th>0</th>\n",
              "      <td>2013-10-01</td>\n",
              "      <td>123.654990</td>\n",
              "    </tr>\n",
              "    <tr>\n",
              "      <th>1</th>\n",
              "      <td>2013-10-02</td>\n",
              "      <td>125.455000</td>\n",
              "    </tr>\n",
              "    <tr>\n",
              "      <th>2</th>\n",
              "      <td>2013-10-03</td>\n",
              "      <td>108.584830</td>\n",
              "    </tr>\n",
              "    <tr>\n",
              "      <th>3</th>\n",
              "      <td>2013-10-04</td>\n",
              "      <td>118.674660</td>\n",
              "    </tr>\n",
              "    <tr>\n",
              "      <th>4</th>\n",
              "      <td>2013-10-05</td>\n",
              "      <td>121.338660</td>\n",
              "    </tr>\n",
              "    <tr>\n",
              "      <th>...</th>\n",
              "      <td>...</td>\n",
              "      <td>...</td>\n",
              "    </tr>\n",
              "    <tr>\n",
              "      <th>2656</th>\n",
              "      <td>2021-01-18</td>\n",
              "      <td>36375.811379</td>\n",
              "    </tr>\n",
              "    <tr>\n",
              "      <th>2657</th>\n",
              "      <td>2021-01-19</td>\n",
              "      <td>36346.609502</td>\n",
              "    </tr>\n",
              "    <tr>\n",
              "      <th>2658</th>\n",
              "      <td>2021-01-20</td>\n",
              "      <td>36577.519646</td>\n",
              "    </tr>\n",
              "    <tr>\n",
              "      <th>2659</th>\n",
              "      <td>2021-01-21</td>\n",
              "      <td>35004.532627</td>\n",
              "    </tr>\n",
              "    <tr>\n",
              "      <th>2660</th>\n",
              "      <td>2021-01-22</td>\n",
              "      <td>30606.182676</td>\n",
              "    </tr>\n",
              "  </tbody>\n",
              "</table>\n",
              "<p>2661 rows × 2 columns</p>\n",
              "</div>"
            ],
            "text/plain": [
              "              ds             y\n",
              "0     2013-10-01    123.654990\n",
              "1     2013-10-02    125.455000\n",
              "2     2013-10-03    108.584830\n",
              "3     2013-10-04    118.674660\n",
              "4     2013-10-05    121.338660\n",
              "...          ...           ...\n",
              "2656  2021-01-18  36375.811379\n",
              "2657  2021-01-19  36346.609502\n",
              "2658  2021-01-20  36577.519646\n",
              "2659  2021-01-21  35004.532627\n",
              "2660  2021-01-22  30606.182676\n",
              "\n",
              "[2661 rows x 2 columns]"
            ]
          },
          "metadata": {
            "tags": []
          },
          "execution_count": 5
        }
      ]
    },
    {
      "cell_type": "markdown",
      "metadata": {
        "id": "267eu9uutq67"
      },
      "source": [
        "# ກວດສອບ datatype\r\n",
        "ds ຕ້ອງເປັນ datetime |\r\n",
        "y ຕ້ອງເປັນ numeric ຫຼື float64"
      ]
    },
    {
      "cell_type": "code",
      "metadata": {
        "colab": {
          "base_uri": "https://localhost:8080/"
        },
        "id": "QlZvPwCIyq0X",
        "outputId": "a16b1061-d1a3-4e88-f4ab-3d4de2afa488"
      },
      "source": [
        "BTC.dtypes"
      ],
      "execution_count": null,
      "outputs": [
        {
          "output_type": "execute_result",
          "data": {
            "text/plain": [
              "ds     object\n",
              "y     float64\n",
              "dtype: object"
            ]
          },
          "metadata": {
            "tags": []
          },
          "execution_count": 6
        }
      ]
    },
    {
      "cell_type": "markdown",
      "metadata": {
        "id": "1ZLSKXiguWCR"
      },
      "source": [
        "# ປ່ຽນ data type:\r\n",
        "ds -> datetime"
      ]
    },
    {
      "cell_type": "code",
      "metadata": {
        "colab": {
          "base_uri": "https://localhost:8080/"
        },
        "id": "tCtieQejzwVx",
        "outputId": "06f4f03e-a89f-437e-95d6-2e6fab68163c"
      },
      "source": [
        "# converting the string to datetime format \r\n",
        "BTC.ds = pd.to_datetime(BTC.ds) "
      ],
      "execution_count": null,
      "outputs": [
        {
          "output_type": "stream",
          "text": [
            "/usr/local/lib/python3.6/dist-packages/pandas/core/generic.py:5170: SettingWithCopyWarning:\n",
            "\n",
            "\n",
            "A value is trying to be set on a copy of a slice from a DataFrame.\n",
            "Try using .loc[row_indexer,col_indexer] = value instead\n",
            "\n",
            "See the caveats in the documentation: https://pandas.pydata.org/pandas-docs/stable/user_guide/indexing.html#returning-a-view-versus-a-copy\n",
            "\n"
          ],
          "name": "stderr"
        }
      ]
    },
    {
      "cell_type": "markdown",
      "metadata": {
        "id": "dn3My04Vu9GG"
      },
      "source": [
        "# ກວດສອບ datatype ອີກຄັ້ງ"
      ]
    },
    {
      "cell_type": "code",
      "metadata": {
        "colab": {
          "base_uri": "https://localhost:8080/"
        },
        "id": "C-zXB_s30fAy",
        "outputId": "64a0056a-c5ae-4560-bde3-43aeed0905c3"
      },
      "source": [
        "BTC.dtypes"
      ],
      "execution_count": null,
      "outputs": [
        {
          "output_type": "execute_result",
          "data": {
            "text/plain": [
              "ds    datetime64[ns]\n",
              "y            float64\n",
              "dtype: object"
            ]
          },
          "metadata": {
            "tags": []
          },
          "execution_count": 8
        }
      ]
    },
    {
      "cell_type": "markdown",
      "metadata": {
        "id": "LoYOzE54vLQn"
      },
      "source": [
        "# ສະແດງກຣາຟ **ລາຄາBitcoin** ຈາກຂໍ້ມູນທີ່ເຮົາໂຫຼດມາ"
      ]
    },
    {
      "cell_type": "code",
      "metadata": {
        "colab": {
          "base_uri": "https://localhost:8080/",
          "height": 287
        },
        "id": "jvdpDLSE_LoD",
        "outputId": "37b1915d-776c-442a-feee-8e12c218644d"
      },
      "source": [
        "\r\n",
        "BTC.plot(x='ds',y='y')\r\n",
        "plt.title(\"ລາຄາ Bitcoin ແຕ່ປີ 2013-ປັດຈຸບັນ\")\r\n",
        "plt.ylabel('ລາຄາ')\r\n",
        "plt.xlabel('ປີ');\r\n",
        "plt.show()\r\n"
      ],
      "execution_count": null,
      "outputs": [
        {
          "output_type": "display_data",
          "data": {
            "image/png": "[encoded data removed]",
            "text/plain": [
              "<Figure size 432x288 with 1 Axes>"
            ]
          },
          "metadata": {
            "tags": [],
            "needs_background": "light"
          }
        }
      ]
    },
    {
      "cell_type": "markdown",
      "metadata": {
        "id": "_TbsM2rWwHBV"
      },
      "source": [
        "# fit model ດ້ວຍ Prophet \r\n",
        "ເຊິ່ງຈະໃຊ້ເວລາຢູ່ປະມານ 1-5 ວິນາທີ\r\n",
        "\r\n",
        "\r\n"
      ]
    },
    {
      "cell_type": "code",
      "metadata": {
        "colab": {
          "base_uri": "https://localhost:8080/"
        },
        "id": "VSOYX-k3ERi2",
        "outputId": "729e69be-3a50-4903-d514-1f2d67f6903e"
      },
      "source": [
        "model1 = Prophet()\r\n",
        "model1.fit(BTC)"
      ],
      "execution_count": null,
      "outputs": [
        {
          "output_type": "stream",
          "text": [
            "INFO:numexpr.utils:NumExpr defaulting to 2 threads.\n",
            "INFO:fbprophet:Disabling daily seasonality. Run prophet with daily_seasonality=True to override this.\n"
          ],
          "name": "stderr"
        },
        {
          "output_type": "execute_result",
          "data": {
            "text/plain": [
              "<fbprophet.forecaster.Prophet at 0x7f2a54fc3b00>"
            ]
          },
          "metadata": {
            "tags": []
          },
          "execution_count": 10
        }
      ]
    },
    {
      "cell_type": "markdown",
      "metadata": {
        "id": "KbY56LTLwnFm"
      },
      "source": [
        "# ຈາກນັ້ນການວິເຄາະຈະຖືກສ້າງຂຶ້ນໃນ data frame future1 ໂດຍມີຖັນ ds ທີ່ມີວັນທີທີ່ຈະວິເຄາະ \r\n",
        "ເຮົາຈະໄດ້ dataframe ທີ່ເໝາະສົມເຊິ່ງຂະຫຍາຍໄປໃນອະນາຄົດ ຕາມຈຳນວນວັນທີ່ກຳນົດ ໂດຍເຮົາຈະໃຊ້ຄຳສັ່ງ Prophet.make_future_dataframe ຕາມຄ່າເລີ່ມຕົ້ນຈາກຂໍ້ມູນໃນອະດີດທີ່ມີໄວ້ນຳ ດັ່ງນັ້ນເຮົາຈະເຫັນຄວາມແຕກຕ່າງລະຫວ່າງຄ່າລາຄາຈິງ ແລະ ຄ່າທີ່ເຮົາວິເຄາະໄດ້"
      ]
    },
    {
      "cell_type": "code",
      "metadata": {
        "colab": {
          "base_uri": "https://localhost:8080/",
          "height": 195
        },
        "id": "TqRGcDDEFgNi",
        "outputId": "436319fd-ef84-4f28-e724-113e47910d51"
      },
      "source": [
        "future1 = model1.make_future_dataframe(periods=365)\r\n",
        "future1.tail()"
      ],
      "execution_count": null,
      "outputs": [
        {
          "output_type": "execute_result",
          "data": {
            "text/html": [
              "<div>\n",
              "<style scoped>\n",
              "    .dataframe tbody tr th:only-of-type {\n",
              "        vertical-align: middle;\n",
              "    }\n",
              "\n",
              "    .dataframe tbody tr th {\n",
              "        vertical-align: top;\n",
              "    }\n",
              "\n",
              "    .dataframe thead th {\n",
              "        text-align: right;\n",
              "    }\n",
              "</style>\n",
              "<table border=\"1\" class=\"dataframe\">\n",
              "  <thead>\n",
              "    <tr style=\"text-align: right;\">\n",
              "      <th></th>\n",
              "      <th>ds</th>\n",
              "    </tr>\n",
              "  </thead>\n",
              "  <tbody>\n",
              "    <tr>\n",
              "      <th>3021</th>\n",
              "      <td>2022-01-18</td>\n",
              "    </tr>\n",
              "    <tr>\n",
              "      <th>3022</th>\n",
              "      <td>2022-01-19</td>\n",
              "    </tr>\n",
              "    <tr>\n",
              "      <th>3023</th>\n",
              "      <td>2022-01-20</td>\n",
              "    </tr>\n",
              "    <tr>\n",
              "      <th>3024</th>\n",
              "      <td>2022-01-21</td>\n",
              "    </tr>\n",
              "    <tr>\n",
              "      <th>3025</th>\n",
              "      <td>2022-01-22</td>\n",
              "    </tr>\n",
              "  </tbody>\n",
              "</table>\n",
              "</div>"
            ],
            "text/plain": [
              "             ds\n",
              "3021 2022-01-18\n",
              "3022 2022-01-19\n",
              "3023 2022-01-20\n",
              "3024 2022-01-21\n",
              "3025 2022-01-22"
            ]
          },
          "metadata": {
            "tags": []
          },
          "execution_count": 11
        }
      ]
    },
    {
      "cell_type": "markdown",
      "metadata": {
        "id": "TbLMrnvizQi-"
      },
      "source": [
        "# ວິທີການວິເຄາະ\r\n",
        "ຈະກຳນົດຄ່າວິເຄາະແຕ່ລະແຖວໃນອະນາຄົດໃນ forecast1 ທີ່ມີຖັນ yhat = ລາຄາສະເລ່ຍ yhat_lower = ລາຄາຄາດເຄື່ອນຕ່ຳສຸດ yhat_upper = ລາຄາຄາດເຄື່ອນສູງສຸດ"
      ]
    },
    {
      "cell_type": "code",
      "metadata": {
        "colab": {
          "base_uri": "https://localhost:8080/",
          "height": 195
        },
        "id": "1SR7ewEbFrzV",
        "outputId": "8b4b9597-dd7a-4e9f-b5f5-c5a59165ae3f"
      },
      "source": [
        "forecast1 = model1.predict(future1)\r\n",
        "forecast1[['ds', 'yhat', 'yhat_lower', 'yhat_upper']].tail()"
      ],
      "execution_count": null,
      "outputs": [
        {
          "output_type": "execute_result",
          "data": {
            "text/html": [
              "<div>\n",
              "<style scoped>\n",
              "    .dataframe tbody tr th:only-of-type {\n",
              "        vertical-align: middle;\n",
              "    }\n",
              "\n",
              "    .dataframe tbody tr th {\n",
              "        vertical-align: top;\n",
              "    }\n",
              "\n",
              "    .dataframe thead th {\n",
              "        text-align: right;\n",
              "    }\n",
              "</style>\n",
              "<table border=\"1\" class=\"dataframe\">\n",
              "  <thead>\n",
              "    <tr style=\"text-align: right;\">\n",
              "      <th></th>\n",
              "      <th>ds</th>\n",
              "      <th>yhat</th>\n",
              "      <th>yhat_lower</th>\n",
              "      <th>yhat_upper</th>\n",
              "    </tr>\n",
              "  </thead>\n",
              "  <tbody>\n",
              "    <tr>\n",
              "      <th>3021</th>\n",
              "      <td>2022-01-18</td>\n",
              "      <td>25482.230145</td>\n",
              "      <td>20882.058324</td>\n",
              "      <td>29978.780991</td>\n",
              "    </tr>\n",
              "    <tr>\n",
              "      <th>3022</th>\n",
              "      <td>2022-01-19</td>\n",
              "      <td>25335.631914</td>\n",
              "      <td>21246.165437</td>\n",
              "      <td>29682.665366</td>\n",
              "    </tr>\n",
              "    <tr>\n",
              "      <th>3023</th>\n",
              "      <td>2022-01-20</td>\n",
              "      <td>25208.784619</td>\n",
              "      <td>20896.092017</td>\n",
              "      <td>29270.528665</td>\n",
              "    </tr>\n",
              "    <tr>\n",
              "      <th>3024</th>\n",
              "      <td>2022-01-21</td>\n",
              "      <td>25038.468120</td>\n",
              "      <td>20489.570092</td>\n",
              "      <td>29509.811903</td>\n",
              "    </tr>\n",
              "    <tr>\n",
              "      <th>3025</th>\n",
              "      <td>2022-01-22</td>\n",
              "      <td>24852.265896</td>\n",
              "      <td>20445.566231</td>\n",
              "      <td>29307.050458</td>\n",
              "    </tr>\n",
              "  </tbody>\n",
              "</table>\n",
              "</div>"
            ],
            "text/plain": [
              "             ds          yhat    yhat_lower    yhat_upper\n",
              "3021 2022-01-18  25482.230145  20882.058324  29978.780991\n",
              "3022 2022-01-19  25335.631914  21246.165437  29682.665366\n",
              "3023 2022-01-20  25208.784619  20896.092017  29270.528665\n",
              "3024 2022-01-21  25038.468120  20489.570092  29509.811903\n",
              "3025 2022-01-22  24852.265896  20445.566231  29307.050458"
            ]
          },
          "metadata": {
            "tags": []
          },
          "execution_count": 12
        }
      ]
    },
    {
      "cell_type": "markdown",
      "metadata": {
        "id": "M4G40JNE2ALH"
      },
      "source": [
        "# ສ້າງກຣາຟທີ່ໄດ້ຈາກການວິເຄາະ"
      ]
    },
    {
      "cell_type": "code",
      "metadata": {
        "colab": {
          "base_uri": "https://localhost:8080/",
          "height": 459
        },
        "id": "JBV8F-OsFzzi",
        "outputId": "d8cdc795-3eac-478e-c0c0-77c5691e864a"
      },
      "source": [
        "fig1 = model1.plot(forecast1)\r\n",
        "plt.title(\"ລາຄາ Bitcoin ແຕ່ປີ 2013-ປັດຈຸບັນ\")\r\n",
        "plt.ylabel('ລາຄາ')\r\n",
        "plt.xlabel('ປີ');\r\n",
        "plt.show()"
      ],
      "execution_count": null,
      "outputs": [
        {
          "output_type": "display_data",
          "data": {
            "image/png": "[encoded data removed]",
            "text/plain": [
              "<Figure size 720x432 with 1 Axes>"
            ]
          },
          "metadata": {
            "tags": []
          }
        }
      ]
    },
    {
      "cell_type": "markdown",
      "metadata": {
        "id": "qatC-8CC3R8N"
      },
      "source": [
        "# ສ້າງກຣາຟທີ່ໄດ້ຈາກການວິເຄາະເຊິ່ງຈະສະແດງເປັນຊ່ວງເວລາຕ່າງໆ"
      ]
    },
    {
      "cell_type": "code",
      "metadata": {
        "colab": {
          "base_uri": "https://localhost:8080/",
          "height": 657
        },
        "id": "McLPQ9ULGDXx",
        "outputId": "021c5b31-3e9d-44d8-8256-2ff20eebd03e"
      },
      "source": [
        "fig2 = model1.plot_components(forecast1)\r\n"
      ],
      "execution_count": null,
      "outputs": [
        {
          "output_type": "display_data",
          "data": {
            "image/png": "[encoded data removed]",
            "text/plain": [
              "<Figure size 648x648 with 3 Axes>"
            ]
          },
          "metadata": {
            "tags": []
          }
        }
      ]
    }
  ]
}